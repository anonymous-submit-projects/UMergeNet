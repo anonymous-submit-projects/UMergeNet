{
 "cells": [
  {
   "cell_type": "code",
   "execution_count": null,
   "id": "7267644d",
   "metadata": {},
   "outputs": [
    {
     "name": "stdout",
     "output_type": "stream",
     "text": [
      "Imagens totais no dataset original: 2605\n",
      "→ Treino: 2407\n",
      "→ Validação (do treino): 0\n",
      "→ Teste (do treino): 198\n",
      "\n",
      "Com N=1, total de imagens geradas no treino será: 4814\n"
     ]
    },
    {
     "name": "stderr",
     "output_type": "stream",
     "text": [
      "Copiando valid: 100%|██████████| 198/198 [00:07<00:00, 27.01it/s]\n"
     ]
    },
    {
     "name": "stdout",
     "output_type": "stream",
     "text": [
      "→ 198 imagens copiadas da pasta valid original.\n",
      "→ 0 imagens copiadas da pasta test original.\n"
     ]
    },
    {
     "name": "stderr",
     "output_type": "stream",
     "text": [
      "Copiando test: 100%|██████████| 198/198 [00:06<00:00, 28.36it/s]\n"
     ]
    },
    {
     "name": "stdout",
     "output_type": "stream",
     "text": [
      "→ 198 imagens copiadas do train para test.\n"
     ]
    },
    {
     "name": "stderr",
     "output_type": "stream",
     "text": [
      "Aumentando imagens de treino: 100%|██████████| 2407/2407 [02:31<00:00, 15.84it/s] "
     ]
    },
    {
     "name": "stdout",
     "output_type": "stream",
     "text": [
      "\n",
      "Resumo final:\n",
      "train_images: 4814 arquivos\n",
      "train_labels: 4814 arquivos\n",
      "valid_images: 198 arquivos\n",
      "valid_labels: 198 arquivos\n",
      "test_images: 198 arquivos\n",
      "test_labels: 198 arquivos\n"
     ]
    },
    {
     "name": "stderr",
     "output_type": "stream",
     "text": [
      "\n"
     ]
    }
   ],
   "source": [
    "import albumentations as A\n",
    "import os\n",
    "import random\n",
    "import numpy as np\n",
    "import config\n",
    "import sys\n",
    "import cv2\n",
    "sys.path.append('../util')\n",
    "from DatasetAugmentation import *\n",
    "\n",
    "\n",
    "#Insira o nome do root do dataset original\n",
    "original_dataset_path = '/mnt/TUDAO/DocNanoNet/LaRS/dataset'\n",
    "output_base           = config.dataset_path\n",
    "\n",
    "# -----------------------------\n",
    "# Parâmetros\n",
    "# -----------------------------\n",
    "N = 1  # número de aumentações\n",
    "num_to_valid = 0    # número de imagens a mover do train para valid\n",
    "num_to_test  = 198  # número de imagens a mover do train para test\n",
    "\n",
    "\n",
    "target_size  = (256, 256)\n",
    "random.seed(42)\n",
    "\n",
    "# -----------------------------\n",
    "# Caminhos de entrada e saída\n",
    "# -----------------------------\n",
    "orig_train_img_dir  = os.path.join(original_dataset_path, 'train')\n",
    "orig_train_mask_dir = os.path.join(original_dataset_path, 'annotations/train/semantic_masks')\n",
    "orig_valid_img_dir  = os.path.join(original_dataset_path, 'val')\n",
    "orig_valid_mask_dir = os.path.join(original_dataset_path, 'annotations/val/semantic_masks')\n",
    "orig_test_img_dir   = os.path.join(original_dataset_path, 'test')\n",
    "orig_test_mask_dir  = os.path.join(original_dataset_path, 'annotations/test/semantic_masks')\n",
    "\n",
    "\n",
    "\n",
    "output_dirs = {\n",
    "    'train_images': os.path.join(output_base, 'images/train'),\n",
    "    'train_labels': os.path.join(output_base, 'labels/train'),\n",
    "    'valid_images': os.path.join(output_base, 'images/valid'),\n",
    "    'valid_labels': os.path.join(output_base, 'labels/valid'),\n",
    "    'test_images':  os.path.join(output_base, 'images/test'),\n",
    "    'test_labels':  os.path.join(output_base, 'labels/test'),\n",
    "}\n",
    "\n",
    "transforms = A.Compose([\n",
    "    A.Resize(*target_size, interpolation=cv2.INTER_NEAREST),\n",
    "    A.HorizontalFlip(p=0.5),\n",
    "    #A.VerticalFlip(p=0.5),\n",
    "    #A.RandomRotate90(p=0.5),\n",
    "    #A.ShiftScaleRotate(shift_limit=0.1, scale_limit=0.1, rotate_limit=30, p=0.7, border_mode=cv2.BORDER_REFLECT),\n",
    "    A.RandomBrightnessContrast(p=0.5),\n",
    "    A.ElasticTransform(p=0.2),\n",
    "    A.GaussianBlur(p=0.3),\n",
    "    A.GridDistortion(p=0.2),\n",
    "])\n",
    "\n",
    "\n",
    "\n",
    "augment_dataset(N, num_to_valid, num_to_test,\n",
    "                    orig_train_img_dir, orig_train_mask_dir,\n",
    "                    orig_valid_img_dir, orig_valid_mask_dir,\n",
    "                    orig_test_img_dir, orig_test_mask_dir,\n",
    "                    output_base,\n",
    "                    transforms,\n",
    "                    )"
   ]
  },
  {
   "cell_type": "code",
   "execution_count": null,
   "id": "be7402de",
   "metadata": {},
   "outputs": [],
   "source": []
  }
 ],
 "metadata": {
  "kernelspec": {
   "display_name": "pytorch5070",
   "language": "python",
   "name": "python3"
  },
  "language_info": {
   "codemirror_mode": {
    "name": "ipython",
    "version": 3
   },
   "file_extension": ".py",
   "mimetype": "text/x-python",
   "name": "python",
   "nbconvert_exporter": "python",
   "pygments_lexer": "ipython3",
   "version": "3.10.16"
  }
 },
 "nbformat": 4,
 "nbformat_minor": 5
}

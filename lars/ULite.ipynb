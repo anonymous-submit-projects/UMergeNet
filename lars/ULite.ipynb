{
 "cells": [
  {
   "cell_type": "code",
   "execution_count": null,
   "id": "330032e3",
   "metadata": {},
   "outputs": [],
   "source": [
    "import config\n",
    "import torch\n",
    "import sys\n",
    "sys.path.append('../util')\n",
    "sys.path.append('../others_networks')\n",
    "import time\n",
    "from Trainer import MulticlassTrainer\n",
    "from util import measure_inference_speed, count_trainable_parameters\n",
    "from ULite import *\n",
    "from DatasetReader import *\n",
    "\n",
    "device = torch.device(\"cuda\" if torch.cuda.is_available() else \"cpu\")\n",
    "result_path = './ULite/'"
   ]
  },
  {
   "cell_type": "code",
   "execution_count": null,
   "id": "4c87bf35",
   "metadata": {},
   "outputs": [],
   "source": [
    "# from util import compile_xls_best_results\n",
    "# compile_xls_best_results(result_path, output_file=\"ulite.xlsx\")"
   ]
  },
  {
   "cell_type": "code",
   "execution_count": null,
   "id": "bbe868f2",
   "metadata": {},
   "outputs": [],
   "source": [
    "num_classes = config.num_classes\n",
    "in_channels = config.in_channels\n",
    "\n",
    "train_loader, test_loader, val_loader = get_datasets(dataset_dir=config.dataset_path, \n",
    "                                              resolution=config.dataset_resolution, \n",
    "                                              batch_size=config.batch_size)"
   ]
  },
  {
   "cell_type": "code",
   "execution_count": null,
   "id": "6394a542",
   "metadata": {},
   "outputs": [],
   "source": [
    "for (images_train, masks_train), (images_test, masks_test) in zip(train_loader, test_loader):\n",
    "    print(images_train.shape, masks_train.shape)\n",
    "    break\n",
    "\n",
    "show_dataset_prev(train_loader, test_loader, val_loader, num_images=3, num_classes=config.num_classes)"
   ]
  },
  {
   "cell_type": "code",
   "execution_count": null,
   "id": "e03091f4",
   "metadata": {},
   "outputs": [],
   "source": [
    "def train(model, model_name):\n",
    "    epochs = 300\n",
    "    model_filename = f'{model_name}-epochs{epochs}.pth'\n",
    "    trainer = MulticlassTrainer(num_classes=config.num_classes,\n",
    "                    model_filename=model_filename,\n",
    "                    model_dir=result_path, \n",
    "                    info={'weights':'DEFAULT'},\n",
    "                    save_xlsx=True)\n",
    "    model = trainer.train(model, train_loader, val_loader, test_loader,\n",
    "                            num_epochs=epochs, \n",
    "                            save_every=1, \n",
    "                            continue_from_last=True,\n",
    "                            learning_rate=1e-3,\n",
    "                            verbose=1)\n",
    "    model.to(device)\n"
   ]
  },
  {
   "cell_type": "code",
   "execution_count": null,
   "id": "805669a7",
   "metadata": {},
   "outputs": [],
   "source": [
    "model = ULite(in_channels=in_channels, out_channels=num_classes)\n",
    "train(model,'ULite-1')"
   ]
  },
  {
   "cell_type": "code",
   "execution_count": null,
   "id": "477cc11b",
   "metadata": {},
   "outputs": [],
   "source": [
    "model = ULite(in_channels=in_channels, out_channels=num_classes)\n",
    "train(model,'ULite-2')"
   ]
  },
  {
   "cell_type": "code",
   "execution_count": null,
   "id": "3018765a",
   "metadata": {},
   "outputs": [],
   "source": [
    "model = ULite(in_channels=in_channels, out_channels=num_classes)\n",
    "train(model,'ULite-3')"
   ]
  },
  {
   "cell_type": "code",
   "execution_count": null,
   "id": "fff97b62",
   "metadata": {},
   "outputs": [],
   "source": []
  }
 ],
 "metadata": {
  "kernelspec": {
   "display_name": "pytorch5070",
   "language": "python",
   "name": "python3"
  },
  "language_info": {
   "codemirror_mode": {
    "name": "ipython",
    "version": 3
   },
   "file_extension": ".py",
   "mimetype": "text/x-python",
   "name": "python",
   "nbconvert_exporter": "python",
   "pygments_lexer": "ipython3",
   "version": "3.10.16"
  }
 },
 "nbformat": 4,
 "nbformat_minor": 5
}

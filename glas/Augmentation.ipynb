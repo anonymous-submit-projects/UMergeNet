{
 "cells": [
  {
   "cell_type": "code",
   "execution_count": 1,
   "id": "692de406",
   "metadata": {},
   "outputs": [
    {
     "name": "stdout",
     "output_type": "stream",
     "text": [
      "165 imagens em 'images/'\n",
      "165 máscaras em 'labels/'\n"
     ]
    }
   ],
   "source": [
    "import os\n",
    "import glob\n",
    "import shutil\n",
    "\n",
    "# Primeiro é necessario separar as imagens do dataset em labels e images, pois neste\n",
    "# dataset todas vieram juntas no mesmo diretorio\n",
    "# Alem disso tiramos o _anno.bmp do final das mascaras\n",
    "\n",
    "base_dir = 'dataset/original-dataset'\n",
    "\n",
    "images_dir = os.path.join(base_dir, \"images\")\n",
    "labels_dir = os.path.join(base_dir, \"labels\")\n",
    "\n",
    "os.makedirs(images_dir, exist_ok=True)\n",
    "os.makedirs(labels_dir, exist_ok=True)\n",
    "\n",
    "bmp_files = glob.glob(os.path.join(base_dir, \"*.bmp\"))\n",
    "for bmp_path in bmp_files:\n",
    "    file_name = os.path.basename(bmp_path)\n",
    "\n",
    "    if file_name.endswith(\"_anno.bmp\"):\n",
    "        dest = os.path.join(labels_dir, file_name.replace('_anno.bmp','.bmp'))\n",
    "    else:\n",
    "        dest = os.path.join(images_dir, file_name)\n",
    "\n",
    "    shutil.copy2(bmp_path, dest)\n",
    "\n",
    "print(f\"{len(glob.glob(os.path.join(images_dir, '*.bmp')))} imagens em 'images/'\")\n",
    "print(f\"{len(glob.glob(os.path.join(labels_dir, '*.bmp')))} máscaras em 'labels/'\")"
   ]
  },
  {
   "cell_type": "code",
   "execution_count": 1,
   "id": "7267644d",
   "metadata": {},
   "outputs": [
    {
     "name": "stderr",
     "output_type": "stream",
     "text": [
      "/home/alan/miniconda3/envs/pytorch5070/lib/python3.10/site-packages/tqdm/auto.py:21: TqdmWarning: IProgress not found. Please update jupyter and ipywidgets. See https://ipywidgets.readthedocs.io/en/stable/user_install.html\n",
      "  from .autonotebook import tqdm as notebook_tqdm\n"
     ]
    },
    {
     "name": "stdout",
     "output_type": "stream",
     "text": [
      "Imagens totais no dataset original: 165\n",
      "→ Treino: 116\n",
      "→ Validação (do treino): 24\n",
      "→ Teste (do treino): 25\n",
      "\n",
      "Com N=15, total de imagens geradas no treino será: 1856\n"
     ]
    },
    {
     "name": "stderr",
     "output_type": "stream",
     "text": [
      "/home/alan/miniconda3/envs/pytorch5070/lib/python3.10/site-packages/albumentations/core/validation.py:114: UserWarning: ShiftScaleRotate is a special case of Affine transform. Please use Affine transform instead.\n",
      "  original_init(self, **validated_kwargs)\n"
     ]
    },
    {
     "name": "stdout",
     "output_type": "stream",
     "text": [
      "→ 0 imagens copiadas da pasta valid original.\n",
      "→ 0 imagens copiadas da pasta test original.\n"
     ]
    },
    {
     "name": "stderr",
     "output_type": "stream",
     "text": [
      "Copiando valid: 100%|██████████| 24/24 [00:00<00:00, 106.02it/s]\n"
     ]
    },
    {
     "name": "stdout",
     "output_type": "stream",
     "text": [
      "→ 24 imagens copiadas do train para valid.\n"
     ]
    },
    {
     "name": "stderr",
     "output_type": "stream",
     "text": [
      "Copiando test: 100%|██████████| 25/25 [00:00<00:00, 109.78it/s]\n"
     ]
    },
    {
     "name": "stdout",
     "output_type": "stream",
     "text": [
      "→ 25 imagens copiadas do train para test.\n"
     ]
    },
    {
     "name": "stderr",
     "output_type": "stream",
     "text": [
      "Aumentando imagens de treino: 100%|██████████| 116/116 [00:16<00:00,  6.92it/s]"
     ]
    },
    {
     "name": "stdout",
     "output_type": "stream",
     "text": [
      "\n",
      "Resumo final:\n",
      "train_images: 1856 arquivos\n",
      "train_labels: 1856 arquivos\n",
      "valid_images: 24 arquivos\n",
      "valid_labels: 24 arquivos\n",
      "test_images: 25 arquivos\n",
      "test_labels: 25 arquivos\n"
     ]
    },
    {
     "name": "stderr",
     "output_type": "stream",
     "text": [
      "\n"
     ]
    }
   ],
   "source": [
    "import albumentations as A\n",
    "import os\n",
    "import random\n",
    "import numpy as np\n",
    "import config\n",
    "import sys\n",
    "import cv2\n",
    "sys.path.append('../util')\n",
    "from DatasetAugmentation import *\n",
    "\n",
    "\n",
    "#Insira o nome do root do dataset original\n",
    "original_dataset_path = './dataset/original-dataset'\n",
    "output_base           = config.dataset_path\n",
    "\n",
    "# -----------------------------\n",
    "# Parâmetros\n",
    "# -----------------------------\n",
    "N = 15  # número de aumentações\n",
    "num_to_valid = 24    # número de imagens a mover do train para valid\n",
    "num_to_test  = 25    # número de imagens a mover do train para test\n",
    "\n",
    "\n",
    "target_size  = (256, 256)\n",
    "random.seed(42)\n",
    "\n",
    "# -----------------------------\n",
    "# Caminhos de entrada e saída\n",
    "# -----------------------------\n",
    "orig_train_img_dir  = os.path.join(original_dataset_path, 'images')\n",
    "orig_train_mask_dir = os.path.join(original_dataset_path, 'labels')\n",
    "orig_valid_img_dir  = os.path.join(original_dataset_path, 'blank')\n",
    "orig_valid_mask_dir = os.path.join(original_dataset_path, 'blank')\n",
    "orig_test_img_dir   = os.path.join(original_dataset_path, 'blank')\n",
    "orig_test_mask_dir  = os.path.join(original_dataset_path, 'blank')\n",
    "\n",
    "\n",
    "\n",
    "output_dirs = {\n",
    "    'train_images': os.path.join(output_base, 'images/train'),\n",
    "    'train_labels': os.path.join(output_base, 'labels/train'),\n",
    "    'valid_images': os.path.join(output_base, 'images/valid'),\n",
    "    'valid_labels': os.path.join(output_base, 'labels/valid'),\n",
    "    'test_images':  os.path.join(output_base, 'images/test'),\n",
    "    'test_labels':  os.path.join(output_base, 'labels/test'),\n",
    "}\n",
    "\n",
    "transforms = A.Compose([\n",
    "    A.Resize(*target_size, interpolation=cv2.INTER_NEAREST),\n",
    "    A.HorizontalFlip(p=0.5),\n",
    "    A.VerticalFlip(p=0.5),\n",
    "    A.RandomRotate90(p=0.5),\n",
    "    A.ShiftScaleRotate(shift_limit=0.1, scale_limit=0.1, rotate_limit=30, p=0.7, border_mode=cv2.BORDER_REFLECT),\n",
    "    A.RandomBrightnessContrast(p=0.5),\n",
    "    A.ElasticTransform(p=0.2),\n",
    "    A.GaussianBlur(p=0.3),\n",
    "    A.GridDistortion(p=0.2),\n",
    "])\n",
    "\n",
    "def fix_mask(mask):\n",
    "    return (mask > 0).astype(np.uint8) * 255\n",
    "\n",
    "\n",
    "augment_dataset(N, num_to_valid, num_to_test,\n",
    "                    orig_train_img_dir, orig_train_mask_dir,\n",
    "                    orig_valid_img_dir, orig_valid_mask_dir,\n",
    "                    orig_test_img_dir, orig_test_mask_dir,\n",
    "                    output_base,\n",
    "                    transforms,\n",
    "                    function_to_apply_to_masks=fix_mask\n",
    "                    )"
   ]
  },
  {
   "cell_type": "code",
   "execution_count": null,
   "id": "be7402de",
   "metadata": {},
   "outputs": [],
   "source": []
  }
 ],
 "metadata": {
  "kernelspec": {
   "display_name": "pytorch5070",
   "language": "python",
   "name": "python3"
  },
  "language_info": {
   "codemirror_mode": {
    "name": "ipython",
    "version": 3
   },
   "file_extension": ".py",
   "mimetype": "text/x-python",
   "name": "python",
   "nbconvert_exporter": "python",
   "pygments_lexer": "ipython3",
   "version": "3.10.16"
  }
 },
 "nbformat": 4,
 "nbformat_minor": 5
}

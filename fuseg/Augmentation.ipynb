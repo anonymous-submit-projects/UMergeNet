{
 "cells": [
  {
   "cell_type": "code",
   "execution_count": 1,
   "id": "7267644d",
   "metadata": {},
   "outputs": [
    {
     "name": "stderr",
     "output_type": "stream",
     "text": [
      "/home/alan/miniconda3/envs/pytorch5070/lib/python3.10/site-packages/tqdm/auto.py:21: TqdmWarning: IProgress not found. Please update jupyter and ipywidgets. See https://ipywidgets.readthedocs.io/en/stable/user_install.html\n",
      "  from .autonotebook import tqdm as notebook_tqdm\n"
     ]
    }
   ],
   "source": [
    "import albumentations as A\n",
    "import os\n",
    "import random\n",
    "import config\n",
    "import sys\n",
    "import cv2\n",
    "import numpy as np\n",
    "import shutil\n",
    "\n",
    "\n",
    "sys.path.append('../util')\n",
    "from DatasetAugmentation import *\n",
    "\n",
    "\n",
    "#Insira o nome do root do dataset original\n",
    "original_dataset_path = './dataset/fuseg-original-dataset'\n",
    "output_base = config.dataset_path"
   ]
  },
  {
   "cell_type": "markdown",
   "id": "b96ecb6b",
   "metadata": {},
   "source": [
    "### Removing images without masks from dataset"
   ]
  },
  {
   "cell_type": "code",
   "execution_count": 2,
   "id": "8e79e42a",
   "metadata": {},
   "outputs": [
    {
     "name": "stdout",
     "output_type": "stream",
     "text": [
      "[OK] Movido: 0092.png e imagem correspondente\n",
      "[OK] Movido: 0131.png e imagem correspondente\n",
      "[OK] Movido: 0223.png e imagem correspondente\n",
      "[OK] Movido: 0281.png e imagem correspondente\n",
      "[OK] Movido: 0335.png e imagem correspondente\n",
      "[OK] Movido: 0361.png e imagem correspondente\n",
      "[OK] Movido: 0457.png e imagem correspondente\n",
      "[OK] Movido: 0502.png e imagem correspondente\n",
      "[OK] Movido: 0564.png e imagem correspondente\n",
      "[OK] Movido: 0600.png e imagem correspondente\n",
      "[OK] Movido: 0701.png e imagem correspondente\n",
      "[OK] Movido: 0725.png e imagem correspondente\n",
      "[OK] Movido: 0736.png e imagem correspondente\n",
      "[OK] Movido: 0778.png e imagem correspondente\n",
      "[OK] Movido: 0832.png e imagem correspondente\n",
      "[OK] Movido: 0899.png e imagem correspondente\n",
      "[OK] Movido: 0912.png e imagem correspondente\n",
      "[OK] Movido: 0931.png e imagem correspondente\n",
      "[OK] Movido: 0950.png e imagem correspondente\n",
      "\n",
      "Total de máscaras pretas movidas: 19\n"
     ]
    },
    {
     "data": {
      "text/plain": [
       "['0092',\n",
       " '0131',\n",
       " '0223',\n",
       " '0281',\n",
       " '0335',\n",
       " '0361',\n",
       " '0457',\n",
       " '0502',\n",
       " '0564',\n",
       " '0600',\n",
       " '0701',\n",
       " '0725',\n",
       " '0736',\n",
       " '0778',\n",
       " '0832',\n",
       " '0899',\n",
       " '0912',\n",
       " '0931',\n",
       " '0950']"
      ]
     },
     "execution_count": 2,
     "metadata": {},
     "output_type": "execute_result"
    }
   ],
   "source": [
    "\n",
    "\n",
    "def mover_mascaras_pretas(\n",
    "    dir_mascaras, \n",
    "    dir_imagens, \n",
    "    dir_destino, \n",
    "    extensoes=(\".png\", \".jpg\", \".jpeg\", \".tif\")\n",
    "):\n",
    "    os.makedirs(dir_destino, exist_ok=True)\n",
    "    mascaras_pretas = []\n",
    "\n",
    "    for root, _, files in os.walk(dir_mascaras):\n",
    "        for file in files:\n",
    "            if file.lower().endswith(extensoes):\n",
    "                caminho_mask = os.path.join(root, file)\n",
    "                img = cv2.imread(caminho_mask, cv2.IMREAD_UNCHANGED)\n",
    "\n",
    "                if img is None:\n",
    "                    print(f\"[AVISO] Não foi possível ler {caminho_mask}\")\n",
    "                    continue\n",
    "\n",
    "                # Converte para escala de cinza se tiver múltiplos canais\n",
    "                if len(img.shape) == 3:\n",
    "                    img = cv2.cvtColor(img, cv2.COLOR_BGR2GRAY)\n",
    "\n",
    "                # Verifica se todos os pixels são 0\n",
    "                if np.all(img == 0):\n",
    "                    nome_base, _ = os.path.splitext(file)\n",
    "                    mascaras_pretas.append(nome_base)\n",
    "\n",
    "                    # Caminho da imagem correspondente\n",
    "                    caminho_img = None\n",
    "                    for ext in extensoes:\n",
    "                        tentativa = os.path.join(dir_imagens, nome_base + ext)\n",
    "                        if os.path.exists(tentativa):\n",
    "                            caminho_img = tentativa\n",
    "                            break\n",
    "\n",
    "                    # Mover máscara\n",
    "                    novo_nome_mask = f\"{nome_base}_mask.png\"\n",
    "                    destino_mask = os.path.join(dir_destino, novo_nome_mask)\n",
    "                    shutil.move(caminho_mask, destino_mask)\n",
    "\n",
    "                    # Mover imagem, se existir\n",
    "                    if caminho_img and os.path.exists(caminho_img):\n",
    "                        destino_img = os.path.join(dir_destino, os.path.basename(caminho_img))\n",
    "                        shutil.move(caminho_img, destino_img)\n",
    "                    else:\n",
    "                        print(f\"[AVISO] Imagem correspondente não encontrada para {file}\")\n",
    "\n",
    "                    print(f\"[OK] Movido: {file} e imagem correspondente\")\n",
    "\n",
    "    print(f\"\\nTotal de máscaras pretas movidas: {len(mascaras_pretas)}\")\n",
    "    return mascaras_pretas\n",
    "\n",
    "\n",
    "# ======== Exemplo de uso ========\n",
    "\n",
    "# Caminho das máscaras originais\n",
    "dir_mascaras = f\"{original_dataset_path}/train/labels\"\n",
    "# Caminho das imagens originais\n",
    "dir_imagens = f\"{original_dataset_path}/train/images\"\n",
    "# Caminho de destino para onde serão movidas\n",
    "dir_destino = f\"{original_dataset_path}/train-fix/\"\n",
    "\n",
    "mover_mascaras_pretas(dir_mascaras, dir_imagens, dir_destino)\n"
   ]
  },
  {
   "cell_type": "markdown",
   "id": "6290a39a",
   "metadata": {},
   "source": [
    "### Moving 100 images from validation to test"
   ]
  },
  {
   "cell_type": "code",
   "execution_count": 7,
   "id": "872e44c8",
   "metadata": {},
   "outputs": [],
   "source": [
    "from_img_dir = os.path.join(original_dataset_path, \"validation\", \"images\")\n",
    "from_lbl_dir = os.path.join(original_dataset_path, \"validation\", \"labels\")\n",
    "to_img_dir = os.path.join(original_dataset_path, \"test\", \"images\")\n",
    "to_lbl_dir = os.path.join(original_dataset_path, \"test\", \"labels\")\n",
    "\n",
    "os.makedirs(to_img_dir, exist_ok=True)\n",
    "os.makedirs(to_lbl_dir, exist_ok=True)\n",
    "\n",
    "images = os.listdir(from_img_dir)\n",
    "selected = random.sample(images, 100)\n",
    "\n",
    "for img in selected:\n",
    "    shutil.move(os.path.join(from_img_dir, img), os.path.join(to_img_dir, img))\n",
    "    shutil.move(os.path.join(from_lbl_dir, img), os.path.join(to_lbl_dir, img))"
   ]
  },
  {
   "cell_type": "markdown",
   "id": "84705ee1",
   "metadata": {},
   "source": [
    "### Augmentation"
   ]
  },
  {
   "cell_type": "code",
   "execution_count": 8,
   "id": "766b899d",
   "metadata": {},
   "outputs": [
    {
     "name": "stdout",
     "output_type": "stream",
     "text": [
      "Imagens totais no dataset original: 791\n",
      "→ Treino: 791\n",
      "→ Validação (do treino): 0\n",
      "→ Teste (do treino): 0\n",
      "\n",
      "Com N=10, total de imagens geradas no treino será: 8701\n"
     ]
    },
    {
     "name": "stderr",
     "output_type": "stream",
     "text": [
      "/home/alan/miniconda3/envs/pytorch5070/lib/python3.10/site-packages/albumentations/core/validation.py:114: UserWarning: ShiftScaleRotate is a special case of Affine transform. Please use Affine transform instead.\n",
      "  original_init(self, **validated_kwargs)\n",
      "Copiando valid: 100%|██████████| 100/100 [00:00<00:00, 197.17it/s]\n",
      "Copiando test: 100%|██████████| 300/300 [00:00<00:00, 555.13it/s]\n"
     ]
    },
    {
     "name": "stdout",
     "output_type": "stream",
     "text": [
      "→ 100 imagens copiadas da pasta valid original.\n",
      "→ 100 imagens copiadas da pasta test original.\n"
     ]
    },
    {
     "name": "stderr",
     "output_type": "stream",
     "text": [
      "Aumentando imagens de treino: 100%|██████████| 791/791 [01:23<00:00,  9.43it/s]"
     ]
    },
    {
     "name": "stdout",
     "output_type": "stream",
     "text": [
      "\n",
      "Resumo final:\n",
      "train_images: 8701 arquivos\n",
      "train_labels: 8701 arquivos\n",
      "valid_images: 100 arquivos\n",
      "valid_labels: 100 arquivos\n",
      "test_images: 100 arquivos\n",
      "test_labels: 100 arquivos\n"
     ]
    },
    {
     "name": "stderr",
     "output_type": "stream",
     "text": [
      "\n"
     ]
    }
   ],
   "source": [
    "\n",
    "# -----------------------------\n",
    "# Parâmetros\n",
    "# -----------------------------\n",
    "N = 10  # número de aumentações\n",
    "num_to_valid = 0    # número de imagens a mover do train para valid\n",
    "num_to_test  = 0    # número de imagens a mover do train para test\n",
    "\n",
    "\n",
    "\n",
    "target_size  = (224, 224)\n",
    "random.seed(42)\n",
    "\n",
    "# -----------------------------\n",
    "# Caminhos de entrada e saída\n",
    "# -----------------------------\n",
    "orig_train_img_dir  = os.path.join(original_dataset_path, 'train/images')\n",
    "orig_train_mask_dir = os.path.join(original_dataset_path, 'train/labels')\n",
    "orig_valid_img_dir  = os.path.join(original_dataset_path, 'validation/images')\n",
    "orig_valid_mask_dir = os.path.join(original_dataset_path, 'validation/labels')\n",
    "orig_test_img_dir   = os.path.join(original_dataset_path, 'test/images')\n",
    "orig_test_mask_dir  = os.path.join(original_dataset_path, 'test/labels')\n",
    "\n",
    "\n",
    "output_dirs = {\n",
    "    'train_images': os.path.join(output_base, 'images/train'),\n",
    "    'train_labels': os.path.join(output_base, 'labels/train'),\n",
    "    'valid_images': os.path.join(output_base, 'images/valid'),\n",
    "    'valid_labels': os.path.join(output_base, 'labels/valid'),\n",
    "    'test_images':  os.path.join(output_base, 'images/test'),\n",
    "    'test_labels':  os.path.join(output_base, 'labels/test'),\n",
    "}\n",
    "\n",
    "transforms = A.Compose([\n",
    "    A.Resize(*target_size, interpolation=cv2.INTER_NEAREST),\n",
    "    A.HorizontalFlip(p=0.5),\n",
    "    A.VerticalFlip(p=0.5),\n",
    "    A.RandomRotate90(p=0.5),\n",
    "    A.ShiftScaleRotate(shift_limit=0.1, scale_limit=0.1, rotate_limit=30, p=0.7, border_mode=cv2.BORDER_REFLECT),\n",
    "    A.RandomBrightnessContrast(p=0.5),\n",
    "    A.ElasticTransform(p=0.2),\n",
    "    A.GaussianBlur(p=0.3),\n",
    "    A.GridDistortion(p=0.2),\n",
    "])\n",
    "\n",
    "augment_dataset(N, num_to_valid, num_to_test,\n",
    "                    orig_train_img_dir, orig_train_mask_dir,\n",
    "                    orig_valid_img_dir, orig_valid_mask_dir,\n",
    "                    orig_test_img_dir, orig_test_mask_dir,\n",
    "                    output_base,\n",
    "                    transforms,\n",
    "                    )"
   ]
  },
  {
   "cell_type": "code",
   "execution_count": null,
   "id": "0fec6332",
   "metadata": {},
   "outputs": [],
   "source": []
  }
 ],
 "metadata": {
  "kernelspec": {
   "display_name": "pytorch5070",
   "language": "python",
   "name": "python3"
  },
  "language_info": {
   "codemirror_mode": {
    "name": "ipython",
    "version": 3
   },
   "file_extension": ".py",
   "mimetype": "text/x-python",
   "name": "python",
   "nbconvert_exporter": "python",
   "pygments_lexer": "ipython3",
   "version": "3.10.16"
  }
 },
 "nbformat": 4,
 "nbformat_minor": 5
}

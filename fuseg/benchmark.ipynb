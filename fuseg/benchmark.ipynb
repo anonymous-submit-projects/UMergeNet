{
 "cells": [
  {
   "cell_type": "code",
   "execution_count": null,
   "id": "687657b5",
   "metadata": {},
   "outputs": [],
   "source": [
    "import config\n",
    "import torch\n",
    "import sys\n",
    "sys.path.append('../util')\n",
    "sys.path.append('../others_networks')\n",
    "\n",
    "#Faça o clone do repositorio: #https://github.com/LeeJunHyun/Image_Segmentation/blob/master/network.py\n",
    "#Adicione o local do clone para poder fazer os imports das UNets\n",
    "sys.path.append(\"/mnt/TUDAO/Image_Segmentation\")\n",
    "from network import U_Net\n",
    "from network import AttU_Net\n",
    "from network import R2AttU_Net\n",
    "\n",
    "from util import measure_inference_speed, clear_gpu\n",
    "from thop import profile\n",
    "\n",
    "from DatasetReader import *\n",
    "\n",
    "device = torch.device(\"cuda\" if torch.cuda.is_available() else \"cpu\")\n",
    "\n",
    "result_path          = './LeeJunUNets/'"
   ]
  },
  {
   "cell_type": "code",
   "execution_count": null,
   "id": "87e72492",
   "metadata": {},
   "outputs": [],
   "source": [
    "in_channels = config.in_channels\n",
    "num_classes = config.num_classes\n",
    "\n",
    "train_loader, test_loader, val_loader = get_datasets(dataset_dir=config.dataset_path, \n",
    "                                                    resolution=config.dataset_resolution, \n",
    "                                                    batch_size=config.batch_size)"
   ]
  },
  {
   "cell_type": "code",
   "execution_count": null,
   "id": "74da8a3c",
   "metadata": {},
   "outputs": [],
   "source": [
    "def evaluate(model, model_filename=None):\n",
    "    state_dict = torch.load(model_filename, map_location='cpu')\n",
    "    model.load_state_dict(state_dict['model_state_dict'], strict=False)\n",
    "\n",
    "    #CONTA O FPS    \n",
    "    fps, time_per_image, cpu_fps, cpu_time_per_image = measure_inference_speed(model, val_loader, steps=100)\n",
    "    print(\"GPU FPS:\",fps,       \"GPU Time per image:\",time_per_image)\n",
    "    print(\"CPU FPS:\",cpu_fps,   \"CPU Time per image:\",cpu_time_per_image)\n",
    "\n",
    "    #Conta os GFLOPS\n",
    "    input = torch.randn(1, 3, 224, 224)\n",
    "    flops, params = profile(model, inputs=(input,))\n",
    "    flops_g = flops / 1e9\n",
    "    params_m = params / 1e6\n",
    "    print(\"Axial\")\n",
    "    print(f\"GFLOPs: {flops_g:.3f}\")\n",
    "    print(f\"Params (M): {params_m:.3f}\")\n",
    "\n",
    "    del model\n",
    "    clear_gpu()\n",
    "    "
   ]
  },
  {
   "cell_type": "code",
   "execution_count": 4,
   "id": "b01f2ece",
   "metadata": {},
   "outputs": [
    {
     "name": "stdout",
     "output_type": "stream",
     "text": [
      "GPU FPS: 144.81966894582573 GPU Time per image: 6.905 ms\n",
      "CPU FPS: 3.089389694039062 CPU Time per image: 323.689 ms\n",
      "[INFO] Register zero_ops() for <class 'torch.nn.modules.pooling.MaxPool2d'>.\n",
      "[INFO] Register count_convNd() for <class 'torch.nn.modules.conv.Conv2d'>.\n",
      "[INFO] Register count_normalization() for <class 'torch.nn.modules.batchnorm.BatchNorm2d'>.\n",
      "[INFO] Register zero_ops() for <class 'torch.nn.modules.activation.ReLU'>.\n",
      "[INFO] Register zero_ops() for <class 'torch.nn.modules.container.Sequential'>.\n",
      "[INFO] Register count_upsample() for <class 'torch.nn.modules.upsampling.Upsample'>.\n",
      "Axial\n",
      "GFLOPs: 50.166\n",
      "Params (M): 34.527\n"
     ]
    }
   ],
   "source": [
    "model = U_Net(img_ch=in_channels, output_ch=num_classes)\n",
    "evaluate(model, model_filename=f\"{result_path}/UNet-1.pth\")"
   ]
  },
  {
   "cell_type": "code",
   "execution_count": 5,
   "id": "faa80573",
   "metadata": {},
   "outputs": [
    {
     "name": "stdout",
     "output_type": "stream",
     "text": [
      "GPU FPS: 131.44017368180815 GPU Time per image: 7.608 ms\n",
      "CPU FPS: 2.5159402660006847 CPU Time per image: 397.466 ms\n",
      "[INFO] Register zero_ops() for <class 'torch.nn.modules.pooling.MaxPool2d'>.\n",
      "[INFO] Register count_convNd() for <class 'torch.nn.modules.conv.Conv2d'>.\n",
      "[INFO] Register count_normalization() for <class 'torch.nn.modules.batchnorm.BatchNorm2d'>.\n",
      "[INFO] Register zero_ops() for <class 'torch.nn.modules.activation.ReLU'>.\n",
      "[INFO] Register zero_ops() for <class 'torch.nn.modules.container.Sequential'>.\n",
      "[INFO] Register count_upsample() for <class 'torch.nn.modules.upsampling.Upsample'>.\n",
      "Axial\n",
      "GFLOPs: 51.015\n",
      "Params (M): 34.879\n"
     ]
    }
   ],
   "source": [
    "model = AttU_Net(img_ch=in_channels, output_ch=num_classes)\n",
    "evaluate(model, model_filename=f\"{result_path}/AttU_Net-1.pth\")"
   ]
  },
  {
   "cell_type": "code",
   "execution_count": 6,
   "id": "dc11bbbb",
   "metadata": {},
   "outputs": [
    {
     "name": "stdout",
     "output_type": "stream",
     "text": [
      "GPU FPS: 53.360581218600586 GPU Time per image: 18.740 ms\n",
      "CPU FPS: 1.0789186517707199 CPU Time per image: 926.854 ms\n",
      "[INFO] Register zero_ops() for <class 'torch.nn.modules.pooling.MaxPool2d'>.\n",
      "[INFO] Register count_upsample() for <class 'torch.nn.modules.upsampling.Upsample'>.\n",
      "[INFO] Register count_convNd() for <class 'torch.nn.modules.conv.Conv2d'>.\n",
      "[INFO] Register count_normalization() for <class 'torch.nn.modules.batchnorm.BatchNorm2d'>.\n",
      "[INFO] Register zero_ops() for <class 'torch.nn.modules.activation.ReLU'>.\n",
      "[INFO] Register zero_ops() for <class 'torch.nn.modules.container.Sequential'>.\n",
      "Axial\n",
      "GFLOPs: 117.928\n",
      "Params (M): 39.443\n"
     ]
    }
   ],
   "source": [
    "model = R2AttU_Net(img_ch=in_channels, output_ch=num_classes)\n",
    "evaluate(model, model_filename=f\"{result_path}/R2AttU_Net-1.pth\")"
   ]
  },
  {
   "cell_type": "code",
   "execution_count": null,
   "id": "2b913c0c",
   "metadata": {},
   "outputs": [
    {
     "name": "stdout",
     "output_type": "stream",
     "text": [
      "GPU FPS: 939.944157043783 GPU Time per image: 1.064 ms\n",
      "CPU FPS: 21.688481206480404 CPU Time per image: 46.107 ms\n",
      "[INFO] Register count_convNd() for <class 'torch.nn.modules.conv.Conv2d'>.\n",
      "[INFO] Register count_normalization() for <class 'torch.nn.modules.batchnorm.BatchNorm2d'>.\n",
      "[INFO] Register zero_ops() for <class 'torch.nn.modules.pooling.MaxPool2d'>.\n",
      "[INFO] Register count_upsample() for <class 'torch.nn.modules.upsampling.Upsample'>.\n",
      "Axial\n",
      "GFLOPs: 0.580\n",
      "Params (M): 0.878\n"
     ]
    }
   ],
   "source": [
    "from ULite import ULite\n",
    "model = ULite(in_channels=in_channels, out_channels=num_classes)\n",
    "evaluate(model, model_filename=f\"ULite/ULite-1-epochs300.pth\")"
   ]
  },
  {
   "cell_type": "code",
   "execution_count": null,
   "id": "35420b4b",
   "metadata": {},
   "outputs": [
    {
     "name": "stderr",
     "output_type": "stream",
     "text": [
      "/home/alan/miniconda3/envs/pytorch5070/lib/python3.10/site-packages/tqdm/auto.py:21: TqdmWarning: IProgress not found. Please update jupyter and ipywidgets. See https://ipywidgets.readthedocs.io/en/stable/user_install.html\n",
      "  from .autonotebook import tqdm as notebook_tqdm\n",
      "/home/alan/miniconda3/envs/pytorch5070/lib/python3.10/site-packages/timm/models/layers/__init__.py:48: FutureWarning: Importing from timm.models.layers is deprecated, please import via timm.layers\n",
      "  warnings.warn(f\"Importing from {__name__} is deprecated, please import via timm.layers\", FutureWarning)\n"
     ]
    },
    {
     "name": "stdout",
     "output_type": "stream",
     "text": [
      "GPU FPS: 2895.7551075710758 GPU Time per image: 0.345 ms\n",
      "CPU FPS: 79.6439278197092 CPU Time per image: 12.556 ms\n",
      "[INFO] Register count_convNd() for <class 'torch.nn.modules.conv.Conv2d'>.\n",
      "[INFO] Register count_normalization() for <class 'torch.nn.modules.batchnorm.BatchNorm2d'>.\n",
      "[INFO] Register count_normalization() for <class 'torch.nn.modules.normalization.LayerNorm'>.\n",
      "[INFO] Register count_linear() for <class 'torch.nn.modules.linear.Linear'>.\n",
      "[INFO] Register zero_ops() for <class 'torch.nn.modules.dropout.Dropout'>.\n",
      "[INFO] Register count_softmax() for <class 'torch.nn.modules.activation.Softmax'>.\n",
      "Axial\n",
      "GFLOPs: 0.439\n",
      "Params (M): 1.472\n"
     ]
    }
   ],
   "source": [
    "from UNext import UNext\n",
    "model = UNext(input_channels=in_channels, num_classes=num_classes)\n",
    "evaluate(model, model_filename=f\"UNext/UNext-1-epochs300.pth\")"
   ]
  },
  {
   "cell_type": "code",
   "execution_count": null,
   "id": "802f5780",
   "metadata": {},
   "outputs": [
    {
     "name": "stdout",
     "output_type": "stream",
     "text": [
      "GPU FPS: 2484.107660553583 GPU Time per image: 0.403 ms\n",
      "CPU FPS: 48.42180136335185 CPU Time per image: 20.652 ms\n",
      "[INFO] Register count_convNd() for <class 'torch.nn.modules.conv.Conv2d'>.\n",
      "[INFO] Register count_normalization() for <class 'torch.nn.modules.batchnorm.BatchNorm2d'>.\n",
      "[INFO] Register zero_ops() for <class 'torch.nn.modules.activation.ReLU6'>.\n",
      "[INFO] Register zero_ops() for <class 'torch.nn.modules.container.Sequential'>.\n",
      "[INFO] Register zero_ops() for <class 'torch.nn.modules.activation.ReLU'>.\n",
      "[INFO] Register count_adap_avgpool() for <class 'torch.nn.modules.pooling.AdaptiveAvgPool2d'>.\n",
      "[INFO] Register zero_ops() for <class 'torch.nn.modules.dropout.Dropout'>.\n",
      "Axial\n",
      "GFLOPs: 0.821\n",
      "Params (M): 12.648\n"
     ]
    }
   ],
   "source": [
    "from DeepLabV3.py import DeepLabV3MobilenetV2Wrapper\n",
    "model = DeepLabV3MobilenetV2Wrapper(in_channels=in_channels, out_channels=num_classes)\n",
    "evaluate(model, model_filename=f\"DeepLabV3/DeepLabV3-1-epochs300.pth\")"
   ]
  },
  {
   "cell_type": "code",
   "execution_count": null,
   "id": "39072af8",
   "metadata": {},
   "outputs": [],
   "source": [
    "from UMergeNet import UMergeNet, ConvType"
   ]
  },
  {
   "cell_type": "code",
   "execution_count": null,
   "id": "cdb3d9c9",
   "metadata": {},
   "outputs": [
    {
     "name": "stdout",
     "output_type": "stream",
     "text": [
      "GPU FPS: 929.1563281103 GPU Time per image: 1.076 ms\n",
      "CPU FPS: 24.476932394885015 CPU Time per image: 40.855 ms\n",
      "[INFO] Register zero_ops() for <class 'torch.nn.modules.pooling.MaxPool2d'>.\n",
      "[INFO] Register count_upsample() for <class 'torch.nn.modules.upsampling.Upsample'>.\n",
      "[INFO] Register count_convNd() for <class 'torch.nn.modules.conv.Conv2d'>.\n",
      "[INFO] Register zero_ops() for <class 'torch.nn.modules.container.Sequential'>.\n",
      "[INFO] Register count_normalization() for <class 'torch.nn.modules.batchnorm.BatchNorm2d'>.\n",
      "Axial\n",
      "GFLOPs: 0.883\n",
      "Params (M): 1.727\n"
     ]
    }
   ],
   "source": [
    "model = UMergeNet(in_channels=3, out_channels=1, conv_type=ConvType.Axial)\n",
    "evaluate(model, model_filename=f\"umergenet/UMergeNet-axial-1-epochs300.pth\")"
   ]
  },
  {
   "cell_type": "code",
   "execution_count": null,
   "id": "fe3f8a73",
   "metadata": {},
   "outputs": [
    {
     "name": "stdout",
     "output_type": "stream",
     "text": [
      "GPU FPS: 1078.3677628945545 GPU Time per image: 0.927 ms\n",
      "CPU FPS: 25.120243161781428 CPU Time per image: 39.809 ms\n",
      "[INFO] Register zero_ops() for <class 'torch.nn.modules.pooling.MaxPool2d'>.\n",
      "[INFO] Register count_upsample() for <class 'torch.nn.modules.upsampling.Upsample'>.\n",
      "[INFO] Register count_convNd() for <class 'torch.nn.modules.conv.Conv2d'>.\n",
      "[INFO] Register zero_ops() for <class 'torch.nn.modules.container.Sequential'>.\n",
      "[INFO] Register count_normalization() for <class 'torch.nn.modules.batchnorm.BatchNorm2d'>.\n",
      "Axial\n",
      "GFLOPs: 0.481\n",
      "Params (M): 0.685\n"
     ]
    }
   ],
   "source": [
    "model = UMergeNet(in_channels=3, out_channels=1, conv_type=ConvType.Axial, merger_groups='dw', encoder_groups='dw', decoder_groups='dw')\n",
    "evaluate(model, model_filename=f\"umergenet/UMergeNet-axial-dw-1-epochs300.pth\")"
   ]
  },
  {
   "cell_type": "code",
   "execution_count": null,
   "id": "3d3d2558",
   "metadata": {},
   "outputs": [
    {
     "name": "stdout",
     "output_type": "stream",
     "text": [
      "GPU FPS: 932.8770855598024 GPU Time per image: 1.072 ms\n",
      "CPU FPS: 25.23646281524574 CPU Time per image: 39.625 ms\n",
      "[INFO] Register zero_ops() for <class 'torch.nn.modules.pooling.MaxPool2d'>.\n",
      "[INFO] Register count_upsample() for <class 'torch.nn.modules.upsampling.Upsample'>.\n",
      "[INFO] Register count_convNd() for <class 'torch.nn.modules.conv.Conv2d'>.\n",
      "[INFO] Register zero_ops() for <class 'torch.nn.modules.container.Sequential'>.\n",
      "[INFO] Register count_normalization() for <class 'torch.nn.modules.batchnorm.BatchNorm2d'>.\n",
      "Axial\n",
      "GFLOPs: 1.187\n",
      "Params (M): 2.487\n"
     ]
    }
   ],
   "source": [
    "model = UMergeNet(in_channels=3, out_channels=1, conv_type=ConvType.Atrous)\n",
    "evaluate(model, model_filename=f\"umergenet/UMergeNet-atrous-1-epochs300.pth\")"
   ]
  },
  {
   "cell_type": "code",
   "execution_count": null,
   "id": "6ec1c9ec",
   "metadata": {},
   "outputs": [
    {
     "name": "stdout",
     "output_type": "stream",
     "text": [
      "GPU FPS: 1307.747173953585 GPU Time per image: 0.765 ms\n",
      "CPU FPS: 29.04769076580094 CPU Time per image: 34.426 ms\n",
      "[INFO] Register zero_ops() for <class 'torch.nn.modules.pooling.MaxPool2d'>.\n",
      "[INFO] Register count_upsample() for <class 'torch.nn.modules.upsampling.Upsample'>.\n",
      "[INFO] Register count_convNd() for <class 'torch.nn.modules.conv.Conv2d'>.\n",
      "[INFO] Register zero_ops() for <class 'torch.nn.modules.container.Sequential'>.\n",
      "[INFO] Register count_normalization() for <class 'torch.nn.modules.batchnorm.BatchNorm2d'>.\n",
      "Axial\n",
      "GFLOPs: 0.513\n",
      "Params (M): 0.702\n"
     ]
    }
   ],
   "source": [
    "model = UMergeNet(in_channels=3, out_channels=1, conv_type=ConvType.Atrous, merger_groups='dw', encoder_groups='dw', decoder_groups='dw')\n",
    "evaluate(model, model_filename=f\"umergenet/UMergeNet-atrous-dw-1-epochs300.pth\")"
   ]
  },
  {
   "cell_type": "code",
   "execution_count": null,
   "id": "aef4cce8",
   "metadata": {},
   "outputs": [
    {
     "name": "stdout",
     "output_type": "stream",
     "text": [
      "GPU FPS: 731.1839147711239 GPU Time per image: 1.368 ms\n",
      "CPU FPS: 24.106542736368457 CPU Time per image: 41.483 ms\n",
      "[INFO] Register zero_ops() for <class 'torch.nn.modules.pooling.MaxPool2d'>.\n",
      "[INFO] Register count_upsample() for <class 'torch.nn.modules.upsampling.Upsample'>.\n",
      "[INFO] Register count_convNd() for <class 'torch.nn.modules.conv.Conv2d'>.\n",
      "[INFO] Register zero_ops() for <class 'torch.nn.modules.container.Sequential'>.\n",
      "[INFO] Register count_normalization() for <class 'torch.nn.modules.batchnorm.BatchNorm2d'>.\n",
      "Axial\n",
      "GFLOPs: 1.852\n",
      "Params (M): 4.150\n"
     ]
    }
   ],
   "source": [
    "model = UMergeNet(in_channels=3, out_channels=1, conv_type=ConvType.Standard)\n",
    "evaluate(model, model_filename=f\"umergenet/UMergeNet-normal-1-epochs300.pth\")"
   ]
  },
  {
   "cell_type": "code",
   "execution_count": null,
   "id": "1d090254",
   "metadata": {},
   "outputs": [
    {
     "name": "stdout",
     "output_type": "stream",
     "text": [
      "GPU FPS: 1168.8629562927379 GPU Time per image: 0.856 ms\n",
      "CPU FPS: 28.76561214016652 CPU Time per image: 34.764 ms\n",
      "[INFO] Register zero_ops() for <class 'torch.nn.modules.pooling.MaxPool2d'>.\n",
      "[INFO] Register count_upsample() for <class 'torch.nn.modules.upsampling.Upsample'>.\n",
      "[INFO] Register count_convNd() for <class 'torch.nn.modules.conv.Conv2d'>.\n",
      "[INFO] Register zero_ops() for <class 'torch.nn.modules.container.Sequential'>.\n",
      "[INFO] Register count_normalization() for <class 'torch.nn.modules.batchnorm.BatchNorm2d'>.\n",
      "Axial\n",
      "GFLOPs: 0.583\n",
      "Params (M): 0.740\n"
     ]
    }
   ],
   "source": [
    "model = UMergeNet(in_channels=3, out_channels=1, conv_type=ConvType.Standard, merger_groups='dw', encoder_groups='dw', decoder_groups='dw')\n",
    "evaluate(model, model_filename=f\"umergenet/UMergeNet-normal-dw-1-epochs300.pth\")"
   ]
  },
  {
   "cell_type": "code",
   "execution_count": null,
   "id": "e0474aa1",
   "metadata": {},
   "outputs": [],
   "source": []
  }
 ],
 "metadata": {
  "kernelspec": {
   "display_name": "pytorch5070",
   "language": "python",
   "name": "python3"
  },
  "language_info": {
   "codemirror_mode": {
    "name": "ipython",
    "version": 3
   },
   "file_extension": ".py",
   "mimetype": "text/x-python",
   "name": "python",
   "nbconvert_exporter": "python",
   "pygments_lexer": "ipython3",
   "version": "3.10.16"
  }
 },
 "nbformat": 4,
 "nbformat_minor": 5
}

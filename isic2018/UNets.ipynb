{
 "cells": [
  {
   "cell_type": "code",
   "execution_count": null,
   "id": "330032e3",
   "metadata": {},
   "outputs": [],
   "source": [
    "import config\n",
    "import torch\n",
    "import sys\n",
    "sys.path.append('../util')\n",
    "sys.path.append('../others_networks')\n",
    "import time\n",
    "from Trainer import Trainer\n",
    "from util import measure_inference_speed, count_trainable_parameters, clear_gpu\n",
    "from DatasetReader import *\n",
    "\n",
    "#Clone the repository: #https://github.com/LeeJunHyun/Image_Segmentation/blob/master/network.py\n",
    "#Add the clone location to be able to import from UNets\n",
    "#The training of these networks was done in colab, so it will be necessary to adapt this script for execution\n",
    "sys.path.append(\"/mnt/TUDAO/Image_Segmentation\")\n",
    "from network import U_Net\n",
    "from network import AttU_Net\n",
    "from network import R2AttU_Net\n",
    "\n",
    "device = torch.device(\"cuda\" if torch.cuda.is_available() else \"cpu\")\n",
    "result_path = './LeeJunUNets/'"
   ]
  },
  {
   "cell_type": "code",
   "execution_count": null,
   "id": "bbe868f2",
   "metadata": {},
   "outputs": [],
   "source": [
    "num_classes = config.num_classes\n",
    "in_channels = config.in_channels\n",
    "\n",
    "train_loader, test_loader, val_loader = get_datasets(dataset_dir=config.dataset_path, \n",
    "                                              resolution=config.dataset_resolution, \n",
    "                                              batch_size=config.batch_size)"
   ]
  },
  {
   "cell_type": "code",
   "execution_count": null,
   "id": "6394a542",
   "metadata": {},
   "outputs": [],
   "source": [
    "for (images_train, masks_train), (images_test, masks_test) in zip(train_loader, test_loader):\n",
    "    print(images_train.shape, masks_train.shape)\n",
    "    break\n",
    "\n",
    "show_dataset_prev(train_loader, test_loader, val_loader, num_images=3)"
   ]
  },
  {
   "cell_type": "code",
   "execution_count": null,
   "id": "2ecf5eb7",
   "metadata": {},
   "outputs": [],
   "source": [
    "def train(model, model_name=None,learning_rate = 1e-3,epochs = 300, re_evaluate=False):\n",
    "\n",
    "    model_filename = f'{model_name}-epochs{epochs}.pth'\n",
    "\n",
    "    print(count_trainable_parameters(model,format=True))\n",
    "    \n",
    "    trainer = Trainer(model_filename=model_filename, \n",
    "                    model_dir=result_path, \n",
    "                    info={'config':''},\n",
    "                    save_xlsx=True)\n",
    "    model = trainer.train(model, train_loader, val_loader, test_loader,\n",
    "                            num_epochs=epochs, \n",
    "                            verbose=1, \n",
    "                            save_every=5, \n",
    "                            learning_rate=learning_rate,\n",
    "                            continue_from_last=True)\n",
    "    model.to(device)\n",
    "    del model\n",
    "    clear_gpu()\n",
    "    if re_evaluate:\n",
    "        trainer.evaluate_model(test_loader, print_stats=True)\n",
    "\n"
   ]
  },
  {
   "cell_type": "code",
   "execution_count": null,
   "id": "805669a7",
   "metadata": {},
   "outputs": [],
   "source": [
    "model = U_Net(img_ch=in_channels, output_ch=num_classes)\n",
    "train(model,'U_Net-1')"
   ]
  },
  {
   "cell_type": "code",
   "execution_count": null,
   "id": "477cc11b",
   "metadata": {},
   "outputs": [],
   "source": [
    "model = AttU_Net(img_ch=in_channels, output_ch=num_classes)\n",
    "train(model,'AttU_Net-2')"
   ]
  },
  {
   "cell_type": "code",
   "execution_count": null,
   "id": "3f83ec8c",
   "metadata": {},
   "outputs": [],
   "source": [
    "model = R2AttU_Net(img_ch=in_channels, output_ch=num_classes)\n",
    "train(model,'R2AttU_Net-3')"
   ]
  },
  {
   "cell_type": "code",
   "execution_count": null,
   "id": "cc5e5476",
   "metadata": {},
   "outputs": [],
   "source": []
  }
 ],
 "metadata": {
  "kernelspec": {
   "display_name": "pytorch5070",
   "language": "python",
   "name": "python3"
  },
  "language_info": {
   "codemirror_mode": {
    "name": "ipython",
    "version": 3
   },
   "file_extension": ".py",
   "mimetype": "text/x-python",
   "name": "python",
   "nbconvert_exporter": "python",
   "pygments_lexer": "ipython3",
   "version": "3.10.16"
  }
 },
 "nbformat": 4,
 "nbformat_minor": 5
}
